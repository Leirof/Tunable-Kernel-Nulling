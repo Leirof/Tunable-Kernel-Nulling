{
 "cells": [
  {
   "cell_type": "code",
   "execution_count": 1,
   "metadata": {},
   "outputs": [],
   "source": [
    "import sympy as sp\n",
    "import numpy as np"
   ]
  },
  {
   "cell_type": "code",
   "execution_count": 2,
   "metadata": {},
   "outputs": [],
   "source": [
    "z = sp.IndexedBase('z') # perturbation + correction\n",
    "\n",
    "o = sp.symbols('o', cls=sp.Idx) # origin (source) of the signal/aberation\n",
    "n = sp.symbols('n', cls=sp.Idx) # channel number\n",
    "\n",
    "theta = sp.symbols(r'\\theta', real=True) # angle of the source"
   ]
  },
  {
   "cell_type": "code",
   "execution_count": 3,
   "metadata": {},
   "outputs": [],
   "source": [
    "def set_noise(M, phase_rms=0, amplitude_rms=0):\n",
    "    for i in ['i', 'n', 's']:\n",
    "        if i == 'i':\n",
    "            rng = range(1, 5)\n",
    "        elif i == 'n':\n",
    "            rng = range(0, 4)\n",
    "        elif i == 's':\n",
    "            rng = range(0, 7)\n",
    "\n",
    "        phase_perturbations = np.random.normal(0, phase_rms, len(rng)+1)\n",
    "        amplitude_perturbations = np.random.normal(1, amplitude_rms, len(rng)+1)\n",
    "        amplitude_perturbations /= np.mean(amplitude_perturbations)\n",
    "        for j in rng:\n",
    "            if i == 'i':\n",
    "                M = M.subs(z[i,j], amplitude_perturbations[j] * sp.exp(sp.I * phase_perturbations[j]))\n",
    "            else:\n",
    "                M = M.subs(z[i,j], 1)\n",
    "    return M"
   ]
  },
  {
   "cell_type": "markdown",
   "metadata": {},
   "source": [
    "<div align=center>\n",
    "\n",
    "---\n",
    "\n",
    "# Elements definition\n",
    "\n",
    "</div>"
   ]
  },
  {
   "cell_type": "markdown",
   "metadata": {},
   "source": [
    "4 input beams"
   ]
  },
  {
   "cell_type": "code",
   "execution_count": 4,
   "metadata": {},
   "outputs": [
    {
     "data": {
      "text/latex": [
       "$\\displaystyle \\left[\\begin{matrix}{x}_{1}\\\\{x}_{2}\\\\{x}_{3}\\\\{x}_{4}\\end{matrix}\\right]$"
      ],
      "text/plain": [
       "Matrix([\n",
       "[x[1]],\n",
       "[x[2]],\n",
       "[x[3]],\n",
       "[x[4]]])"
      ]
     },
     "execution_count": 4,
     "metadata": {},
     "output_type": "execute_result"
    }
   ],
   "source": [
    "x = sp.IndexedBase('x') # input signal\n",
    "X = sp.Matrix([\n",
    "    [x[1]],\n",
    "    [x[2]],\n",
    "    [x[3]],\n",
    "    [x[4]]\n",
    "])\n",
    "X"
   ]
  },
  {
   "cell_type": "markdown",
   "metadata": {},
   "source": [
    "Atmospherical perturbation"
   ]
  },
  {
   "cell_type": "code",
   "execution_count": 5,
   "metadata": {},
   "outputs": [
    {
     "data": {
      "text/latex": [
       "$\\displaystyle \\left[\\begin{matrix}{z}_{i,1} & 0 & 0 & 0\\\\0 & {z}_{i,2} & 0 & 0\\\\0 & 0 & {z}_{i,3} & 0\\\\0 & 0 & 0 & {z}_{i,4}\\end{matrix}\\right]$"
      ],
      "text/plain": [
       "Matrix([\n",
       "[z[i, 1],       0,       0,       0],\n",
       "[      0, z[i, 2],       0,       0],\n",
       "[      0,       0, z[i, 3],       0],\n",
       "[      0,       0,       0, z[i, 4]]])"
      ]
     },
     "execution_count": 5,
     "metadata": {},
     "output_type": "execute_result"
    }
   ],
   "source": [
    "Zi = sp.Matrix([\n",
    "    [z['i',1], 0, 0, 0],\n",
    "    [0, z['i',2], 0, 0],\n",
    "    [0, 0, z['i',3], 0],\n",
    "    [0, 0, 0, z['i',4]]\n",
    "])\n",
    "Zi"
   ]
  },
  {
   "cell_type": "markdown",
   "metadata": {},
   "source": [
    "Nuller"
   ]
  },
  {
   "cell_type": "code",
   "execution_count": 6,
   "metadata": {},
   "outputs": [
    {
     "data": {
      "text/latex": [
       "$\\displaystyle \\left[\\begin{matrix}\\frac{1}{2} & \\frac{1}{2} & \\frac{1}{2} & \\frac{1}{2}\\\\\\frac{1}{2} & \\frac{1}{2} & - \\frac{1}{2} & - \\frac{1}{2}\\\\\\frac{1}{2} & - \\frac{1}{2} & \\frac{1}{2} & - \\frac{1}{2}\\\\\\frac{1}{2} & - \\frac{1}{2} & - \\frac{1}{2} & \\frac{1}{2}\\end{matrix}\\right]$"
      ],
      "text/plain": [
       "Matrix([\n",
       "[1/2,  1/2,  1/2,  1/2],\n",
       "[1/2,  1/2, -1/2, -1/2],\n",
       "[1/2, -1/2,  1/2, -1/2],\n",
       "[1/2, -1/2, -1/2,  1/2]])"
      ]
     },
     "execution_count": 6,
     "metadata": {},
     "output_type": "execute_result"
    }
   ],
   "source": [
    "N = 1/sp.sqrt(4) * sp.Matrix([\n",
    "    [1, 1, 1, 1],\n",
    "    [1, 1,-1,-1],\n",
    "    [1,-1, 1,-1],\n",
    "    [1,-1,-1, 1],\n",
    "])\n",
    "N"
   ]
  },
  {
   "cell_type": "markdown",
   "metadata": {},
   "source": [
    "Check if the nuller is physical"
   ]
  },
  {
   "cell_type": "code",
   "execution_count": 7,
   "metadata": {},
   "outputs": [
    {
     "data": {
      "text/latex": [
       "$\\displaystyle \\left[\\begin{matrix}1 & 0 & 0 & 0\\\\0 & 1 & 0 & 0\\\\0 & 0 & 1 & 0\\\\0 & 0 & 0 & 1\\end{matrix}\\right]$"
      ],
      "text/plain": [
       "Matrix([\n",
       "[1, 0, 0, 0],\n",
       "[0, 1, 0, 0],\n",
       "[0, 0, 1, 0],\n",
       "[0, 0, 0, 1]])"
      ]
     },
     "execution_count": 7,
     "metadata": {},
     "output_type": "execute_result"
    }
   ],
   "source": [
    "sp.conjugate(N).T * N"
   ]
  },
  {
   "cell_type": "markdown",
   "metadata": {},
   "source": [
    "Nuller perturbations"
   ]
  },
  {
   "cell_type": "code",
   "execution_count": 8,
   "metadata": {},
   "outputs": [
    {
     "data": {
      "text/latex": [
       "$\\displaystyle \\left[\\begin{matrix}{z}_{n,0} & 0 & 0 & 0\\\\0 & {z}_{n,1} & 0 & 0\\\\0 & 0 & {z}_{n,2} & 0\\\\0 & 0 & 0 & {z}_{n,3}\\end{matrix}\\right]$"
      ],
      "text/plain": [
       "Matrix([\n",
       "[z[n, 0],       0,       0,       0],\n",
       "[      0, z[n, 1],       0,       0],\n",
       "[      0,       0, z[n, 2],       0],\n",
       "[      0,       0,       0, z[n, 3]]])"
      ]
     },
     "execution_count": 8,
     "metadata": {},
     "output_type": "execute_result"
    }
   ],
   "source": [
    "Zn = sp.Matrix([\n",
    "    [z['n',0], 0, 0, 0],\n",
    "    [0, z['n',1], 0, 0],\n",
    "    [0, 0, z['n',2], 0],\n",
    "    [0, 0, 0, z['n',3]]\n",
    "])\n",
    "Zn"
   ]
  },
  {
   "cell_type": "markdown",
   "metadata": {},
   "source": [
    "Nuller operations"
   ]
  },
  {
   "cell_type": "code",
   "execution_count": 9,
   "metadata": {},
   "outputs": [
    {
     "data": {
      "text/latex": [
       "$\\displaystyle \\left[\\begin{matrix}\\frac{\\left({x}_{1} + {x}_{2} + {x}_{3} + {x}_{4}\\right) {z}_{n,0}}{2}\\\\\\frac{\\left({x}_{1} + {x}_{2} - {x}_{3} - {x}_{4}\\right) {z}_{n,1}}{2}\\\\\\frac{\\left({x}_{1} - {x}_{2} + {x}_{3} - {x}_{4}\\right) {z}_{n,2}}{2}\\\\\\frac{\\left({x}_{1} - {x}_{2} - {x}_{3} + {x}_{4}\\right) {z}_{n,3}}{2}\\end{matrix}\\right]$"
      ],
      "text/plain": [
       "Matrix([\n",
       "[(x[1] + x[2] + x[3] + x[4])*z[n, 0]/2],\n",
       "[(x[1] + x[2] - x[3] - x[4])*z[n, 1]/2],\n",
       "[(x[1] - x[2] + x[3] - x[4])*z[n, 2]/2],\n",
       "[(x[1] - x[2] - x[3] + x[4])*z[n, 3]/2]])"
      ]
     },
     "execution_count": 9,
     "metadata": {},
     "output_type": "execute_result"
    }
   ],
   "source": [
    "nuller_output = Zn * N * X\n",
    "sp.Matrix([y.factor() for y in nuller_output])"
   ]
  },
  {
   "cell_type": "code",
   "execution_count": 10,
   "metadata": {},
   "outputs": [
    {
     "data": {
      "text/latex": [
       "$\\displaystyle \\left[\\begin{matrix}1 & 0 & 0 & 0\\\\0 & \\frac{1}{2} & \\frac{e^{i \\theta}}{2} & 0\\\\0 & - \\frac{e^{- i \\theta}}{2} & \\frac{1}{2} & 0\\\\0 & \\frac{1}{2} & 0 & \\frac{e^{i \\theta}}{2}\\\\0 & - \\frac{e^{- i \\theta}}{2} & 0 & \\frac{1}{2}\\\\0 & 0 & \\frac{1}{2} & \\frac{e^{i \\theta}}{2}\\\\0 & 0 & - \\frac{e^{- i \\theta}}{2} & \\frac{1}{2}\\end{matrix}\\right]$"
      ],
      "text/plain": [
       "Matrix([\n",
       "[1,                 0,                 0,               0],\n",
       "[0,               1/2,   exp(I*\\theta)/2,               0],\n",
       "[0, -exp(-I*\\theta)/2,               1/2,               0],\n",
       "[0,               1/2,                 0, exp(I*\\theta)/2],\n",
       "[0, -exp(-I*\\theta)/2,                 0,             1/2],\n",
       "[0,                 0,               1/2, exp(I*\\theta)/2],\n",
       "[0,                 0, -exp(-I*\\theta)/2,             1/2]])"
      ]
     },
     "execution_count": 10,
     "metadata": {},
     "output_type": "execute_result"
    }
   ],
   "source": [
    "S = 1/sp.sqrt(4) * sp.Matrix([\n",
    "    [sp.sqrt(4), 0, 0, 0],\n",
    "    [0, 1, sp.exp(sp.I * theta), 0],\n",
    "    [0, -sp.exp(-sp.I * theta), 1, 0],\n",
    "    [0, 1, 0, sp.exp(sp.I * theta)],\n",
    "    [0, -sp.exp(-sp.I * theta), 0, 1],\n",
    "    [0, 0, 1, sp.exp(sp.I * theta)],\n",
    "    [0, 0, -sp.exp(-sp.I * theta), 1],\n",
    "])\n",
    "S"
   ]
  },
  {
   "cell_type": "code",
   "execution_count": 11,
   "metadata": {},
   "outputs": [
    {
     "data": {
      "text/latex": [
       "$\\displaystyle \\left[\\begin{matrix}1 & 0 & 0 & 0\\\\0 & 1 & 0 & 0\\\\0 & 0 & 1 & 0\\\\0 & 0 & 0 & 1\\end{matrix}\\right]$"
      ],
      "text/plain": [
       "Matrix([\n",
       "[1, 0, 0, 0],\n",
       "[0, 1, 0, 0],\n",
       "[0, 0, 1, 0],\n",
       "[0, 0, 0, 1]])"
      ]
     },
     "execution_count": 11,
     "metadata": {},
     "output_type": "execute_result"
    }
   ],
   "source": [
    "sp.conjugate(S).T * S"
   ]
  },
  {
   "cell_type": "code",
   "execution_count": 12,
   "metadata": {},
   "outputs": [
    {
     "data": {
      "text/latex": [
       "$\\displaystyle \\left[\\begin{matrix}1 & 0 & 0 & 0 & 0 & 0 & 0\\\\0 & {z}_{s,1} & 0 & 0 & 0 & 0 & 0\\\\0 & 0 & {z}_{s,2} & 0 & 0 & 0 & 0\\\\0 & 0 & 0 & {z}_{s,3} & 0 & 0 & 0\\\\0 & 0 & 0 & 0 & {z}_{s,4} & 0 & 0\\\\0 & 0 & 0 & 0 & 0 & {z}_{s,5} & 0\\\\0 & 0 & 0 & 0 & 0 & 0 & {z}_{s,6}\\end{matrix}\\right]$"
      ],
      "text/plain": [
       "Matrix([\n",
       "[1,       0,       0,       0,       0,       0,       0],\n",
       "[0, z[s, 1],       0,       0,       0,       0,       0],\n",
       "[0,       0, z[s, 2],       0,       0,       0,       0],\n",
       "[0,       0,       0, z[s, 3],       0,       0,       0],\n",
       "[0,       0,       0,       0, z[s, 4],       0,       0],\n",
       "[0,       0,       0,       0,       0, z[s, 5],       0],\n",
       "[0,       0,       0,       0,       0,       0, z[s, 6]]])"
      ]
     },
     "execution_count": 12,
     "metadata": {},
     "output_type": "execute_result"
    }
   ],
   "source": [
    "Zs = sp.Matrix([\n",
    "    [1, 0, 0, 0, 0, 0, 0],\n",
    "    [0, z['s',1], 0, 0, 0, 0, 0],\n",
    "    [0, 0, z['s',2], 0, 0, 0, 0],\n",
    "    [0, 0, 0, z['s',3], 0, 0, 0],\n",
    "    [0, 0, 0, 0, z['s',4], 0, 0],\n",
    "    [0, 0, 0, 0, 0, z['s',5], 0],\n",
    "    [0, 0, 0, 0, 0, 0, z['s',6]],\n",
    "])\n",
    "Zs"
   ]
  },
  {
   "cell_type": "code",
   "execution_count": 13,
   "metadata": {},
   "outputs": [
    {
     "data": {
      "text/latex": [
       "$\\displaystyle \\left[\\begin{matrix}1 & 0 & 0 & 0 & 0 & 0 & 0\\\\0 & 1 & -1 & 0 & 0 & 0 & 0\\\\0 & 0 & 0 & 1 & -1 & 0 & 0\\\\0 & 0 & 0 & 0 & 0 & 1 & -1\\end{matrix}\\right]$"
      ],
      "text/plain": [
       "Matrix([\n",
       "[1, 0,  0, 0,  0, 0,  0],\n",
       "[0, 1, -1, 0,  0, 0,  0],\n",
       "[0, 0,  0, 1, -1, 0,  0],\n",
       "[0, 0,  0, 0,  0, 1, -1]])"
      ]
     },
     "execution_count": 13,
     "metadata": {},
     "output_type": "execute_result"
    }
   ],
   "source": [
    "K = sp.Matrix([\n",
    "    [1, 0, 0, 0, 0, 0, 0],\n",
    "    [0, 1,-1, 0, 0, 0, 0],\n",
    "    [0, 0, 0, 1,-1, 0, 0],\n",
    "    [0, 0, 0, 0, 0, 1,-1],\n",
    "])\n",
    "K"
   ]
  },
  {
   "cell_type": "code",
   "execution_count": 14,
   "metadata": {},
   "outputs": [
    {
     "data": {
      "text/latex": [
       "$\\displaystyle \\left[\\begin{matrix}\\frac{{z}_{i,1} {z}_{n,0}}{2} & \\frac{{z}_{i,2} {z}_{n,0}}{2} & \\frac{{z}_{i,3} {z}_{n,0}}{2} & \\frac{{z}_{i,4} {z}_{n,0}}{2}\\\\\\left(\\frac{\\left(\\frac{e^{i \\theta} {z}_{s,1}}{2} - \\frac{{z}_{s,2}}{2}\\right) {z}_{n,2}}{2} + \\frac{\\left(\\frac{{z}_{s,1}}{2} + \\frac{e^{- i \\theta} {z}_{s,2}}{2}\\right) {z}_{n,1}}{2}\\right) {z}_{i,1} & \\left(- \\frac{\\left(\\frac{e^{i \\theta} {z}_{s,1}}{2} - \\frac{{z}_{s,2}}{2}\\right) {z}_{n,2}}{2} + \\frac{\\left(\\frac{{z}_{s,1}}{2} + \\frac{e^{- i \\theta} {z}_{s,2}}{2}\\right) {z}_{n,1}}{2}\\right) {z}_{i,2} & \\left(\\frac{\\left(\\frac{e^{i \\theta} {z}_{s,1}}{2} - \\frac{{z}_{s,2}}{2}\\right) {z}_{n,2}}{2} - \\frac{\\left(\\frac{{z}_{s,1}}{2} + \\frac{e^{- i \\theta} {z}_{s,2}}{2}\\right) {z}_{n,1}}{2}\\right) {z}_{i,3} & \\left(- \\frac{\\left(\\frac{e^{i \\theta} {z}_{s,1}}{2} - \\frac{{z}_{s,2}}{2}\\right) {z}_{n,2}}{2} - \\frac{\\left(\\frac{{z}_{s,1}}{2} + \\frac{e^{- i \\theta} {z}_{s,2}}{2}\\right) {z}_{n,1}}{2}\\right) {z}_{i,4}\\\\\\left(\\frac{\\left(\\frac{e^{i \\theta} {z}_{s,3}}{2} - \\frac{{z}_{s,4}}{2}\\right) {z}_{n,3}}{2} + \\frac{\\left(\\frac{{z}_{s,3}}{2} + \\frac{e^{- i \\theta} {z}_{s,4}}{2}\\right) {z}_{n,1}}{2}\\right) {z}_{i,1} & \\left(- \\frac{\\left(\\frac{e^{i \\theta} {z}_{s,3}}{2} - \\frac{{z}_{s,4}}{2}\\right) {z}_{n,3}}{2} + \\frac{\\left(\\frac{{z}_{s,3}}{2} + \\frac{e^{- i \\theta} {z}_{s,4}}{2}\\right) {z}_{n,1}}{2}\\right) {z}_{i,2} & \\left(- \\frac{\\left(\\frac{e^{i \\theta} {z}_{s,3}}{2} - \\frac{{z}_{s,4}}{2}\\right) {z}_{n,3}}{2} - \\frac{\\left(\\frac{{z}_{s,3}}{2} + \\frac{e^{- i \\theta} {z}_{s,4}}{2}\\right) {z}_{n,1}}{2}\\right) {z}_{i,3} & \\left(\\frac{\\left(\\frac{e^{i \\theta} {z}_{s,3}}{2} - \\frac{{z}_{s,4}}{2}\\right) {z}_{n,3}}{2} - \\frac{\\left(\\frac{{z}_{s,3}}{2} + \\frac{e^{- i \\theta} {z}_{s,4}}{2}\\right) {z}_{n,1}}{2}\\right) {z}_{i,4}\\\\\\left(\\frac{\\left(\\frac{e^{i \\theta} {z}_{s,5}}{2} - \\frac{{z}_{s,6}}{2}\\right) {z}_{n,3}}{2} + \\frac{\\left(\\frac{{z}_{s,5}}{2} + \\frac{e^{- i \\theta} {z}_{s,6}}{2}\\right) {z}_{n,2}}{2}\\right) {z}_{i,1} & \\left(- \\frac{\\left(\\frac{e^{i \\theta} {z}_{s,5}}{2} - \\frac{{z}_{s,6}}{2}\\right) {z}_{n,3}}{2} - \\frac{\\left(\\frac{{z}_{s,5}}{2} + \\frac{e^{- i \\theta} {z}_{s,6}}{2}\\right) {z}_{n,2}}{2}\\right) {z}_{i,2} & \\left(- \\frac{\\left(\\frac{e^{i \\theta} {z}_{s,5}}{2} - \\frac{{z}_{s,6}}{2}\\right) {z}_{n,3}}{2} + \\frac{\\left(\\frac{{z}_{s,5}}{2} + \\frac{e^{- i \\theta} {z}_{s,6}}{2}\\right) {z}_{n,2}}{2}\\right) {z}_{i,3} & \\left(\\frac{\\left(\\frac{e^{i \\theta} {z}_{s,5}}{2} - \\frac{{z}_{s,6}}{2}\\right) {z}_{n,3}}{2} - \\frac{\\left(\\frac{{z}_{s,5}}{2} + \\frac{e^{- i \\theta} {z}_{s,6}}{2}\\right) {z}_{n,2}}{2}\\right) {z}_{i,4}\\end{matrix}\\right]$"
      ],
      "text/plain": [
       "Matrix([\n",
       "[                                                                                           z[i, 1]*z[n, 0]/2,                                                                                             z[i, 2]*z[n, 0]/2,                                                                                             z[i, 3]*z[n, 0]/2,                                                                                             z[i, 4]*z[n, 0]/2],\n",
       "[((exp(I*\\theta)*z[s, 1]/2 - z[s, 2]/2)*z[n, 2]/2 + (z[s, 1]/2 + exp(-I*\\theta)*z[s, 2]/2)*z[n, 1]/2)*z[i, 1], (-(exp(I*\\theta)*z[s, 1]/2 - z[s, 2]/2)*z[n, 2]/2 + (z[s, 1]/2 + exp(-I*\\theta)*z[s, 2]/2)*z[n, 1]/2)*z[i, 2],  ((exp(I*\\theta)*z[s, 1]/2 - z[s, 2]/2)*z[n, 2]/2 - (z[s, 1]/2 + exp(-I*\\theta)*z[s, 2]/2)*z[n, 1]/2)*z[i, 3], (-(exp(I*\\theta)*z[s, 1]/2 - z[s, 2]/2)*z[n, 2]/2 - (z[s, 1]/2 + exp(-I*\\theta)*z[s, 2]/2)*z[n, 1]/2)*z[i, 4]],\n",
       "[((exp(I*\\theta)*z[s, 3]/2 - z[s, 4]/2)*z[n, 3]/2 + (z[s, 3]/2 + exp(-I*\\theta)*z[s, 4]/2)*z[n, 1]/2)*z[i, 1], (-(exp(I*\\theta)*z[s, 3]/2 - z[s, 4]/2)*z[n, 3]/2 + (z[s, 3]/2 + exp(-I*\\theta)*z[s, 4]/2)*z[n, 1]/2)*z[i, 2], (-(exp(I*\\theta)*z[s, 3]/2 - z[s, 4]/2)*z[n, 3]/2 - (z[s, 3]/2 + exp(-I*\\theta)*z[s, 4]/2)*z[n, 1]/2)*z[i, 3],  ((exp(I*\\theta)*z[s, 3]/2 - z[s, 4]/2)*z[n, 3]/2 - (z[s, 3]/2 + exp(-I*\\theta)*z[s, 4]/2)*z[n, 1]/2)*z[i, 4]],\n",
       "[((exp(I*\\theta)*z[s, 5]/2 - z[s, 6]/2)*z[n, 3]/2 + (z[s, 5]/2 + exp(-I*\\theta)*z[s, 6]/2)*z[n, 2]/2)*z[i, 1], (-(exp(I*\\theta)*z[s, 5]/2 - z[s, 6]/2)*z[n, 3]/2 - (z[s, 5]/2 + exp(-I*\\theta)*z[s, 6]/2)*z[n, 2]/2)*z[i, 2], (-(exp(I*\\theta)*z[s, 5]/2 - z[s, 6]/2)*z[n, 3]/2 + (z[s, 5]/2 + exp(-I*\\theta)*z[s, 6]/2)*z[n, 2]/2)*z[i, 3],  ((exp(I*\\theta)*z[s, 5]/2 - z[s, 6]/2)*z[n, 3]/2 - (z[s, 5]/2 + exp(-I*\\theta)*z[s, 6]/2)*z[n, 2]/2)*z[i, 4]]])"
      ]
     },
     "execution_count": 14,
     "metadata": {},
     "output_type": "execute_result"
    }
   ],
   "source": [
    "M = K * Zs * S * Zn * N * Zi\n",
    "M"
   ]
  },
  {
   "cell_type": "code",
   "execution_count": 15,
   "metadata": {},
   "outputs": [
    {
     "data": {
      "text/latex": [
       "$\\displaystyle \\left[\\begin{matrix}\\frac{{x}_{1} {z}_{i,1} {z}_{n,0}}{2} + \\frac{{x}_{2} {z}_{i,2} {z}_{n,0}}{2} + \\frac{{x}_{3} {z}_{i,3} {z}_{n,0}}{2} + \\frac{{x}_{4} {z}_{i,4} {z}_{n,0}}{2}\\\\\\left(- \\frac{\\left(\\frac{e^{i \\theta} {z}_{s,1}}{2} - \\frac{{z}_{s,2}}{2}\\right) {z}_{n,2}}{2} - \\frac{\\left(\\frac{{z}_{s,1}}{2} + \\frac{e^{- i \\theta} {z}_{s,2}}{2}\\right) {z}_{n,1}}{2}\\right) {x}_{4} {z}_{i,4} + \\left(- \\frac{\\left(\\frac{e^{i \\theta} {z}_{s,1}}{2} - \\frac{{z}_{s,2}}{2}\\right) {z}_{n,2}}{2} + \\frac{\\left(\\frac{{z}_{s,1}}{2} + \\frac{e^{- i \\theta} {z}_{s,2}}{2}\\right) {z}_{n,1}}{2}\\right) {x}_{2} {z}_{i,2} + \\left(\\frac{\\left(\\frac{e^{i \\theta} {z}_{s,1}}{2} - \\frac{{z}_{s,2}}{2}\\right) {z}_{n,2}}{2} - \\frac{\\left(\\frac{{z}_{s,1}}{2} + \\frac{e^{- i \\theta} {z}_{s,2}}{2}\\right) {z}_{n,1}}{2}\\right) {x}_{3} {z}_{i,3} + \\left(\\frac{\\left(\\frac{e^{i \\theta} {z}_{s,1}}{2} - \\frac{{z}_{s,2}}{2}\\right) {z}_{n,2}}{2} + \\frac{\\left(\\frac{{z}_{s,1}}{2} + \\frac{e^{- i \\theta} {z}_{s,2}}{2}\\right) {z}_{n,1}}{2}\\right) {x}_{1} {z}_{i,1}\\\\\\left(- \\frac{\\left(\\frac{e^{i \\theta} {z}_{s,3}}{2} - \\frac{{z}_{s,4}}{2}\\right) {z}_{n,3}}{2} - \\frac{\\left(\\frac{{z}_{s,3}}{2} + \\frac{e^{- i \\theta} {z}_{s,4}}{2}\\right) {z}_{n,1}}{2}\\right) {x}_{3} {z}_{i,3} + \\left(- \\frac{\\left(\\frac{e^{i \\theta} {z}_{s,3}}{2} - \\frac{{z}_{s,4}}{2}\\right) {z}_{n,3}}{2} + \\frac{\\left(\\frac{{z}_{s,3}}{2} + \\frac{e^{- i \\theta} {z}_{s,4}}{2}\\right) {z}_{n,1}}{2}\\right) {x}_{2} {z}_{i,2} + \\left(\\frac{\\left(\\frac{e^{i \\theta} {z}_{s,3}}{2} - \\frac{{z}_{s,4}}{2}\\right) {z}_{n,3}}{2} - \\frac{\\left(\\frac{{z}_{s,3}}{2} + \\frac{e^{- i \\theta} {z}_{s,4}}{2}\\right) {z}_{n,1}}{2}\\right) {x}_{4} {z}_{i,4} + \\left(\\frac{\\left(\\frac{e^{i \\theta} {z}_{s,3}}{2} - \\frac{{z}_{s,4}}{2}\\right) {z}_{n,3}}{2} + \\frac{\\left(\\frac{{z}_{s,3}}{2} + \\frac{e^{- i \\theta} {z}_{s,4}}{2}\\right) {z}_{n,1}}{2}\\right) {x}_{1} {z}_{i,1}\\\\\\left(- \\frac{\\left(\\frac{e^{i \\theta} {z}_{s,5}}{2} - \\frac{{z}_{s,6}}{2}\\right) {z}_{n,3}}{2} - \\frac{\\left(\\frac{{z}_{s,5}}{2} + \\frac{e^{- i \\theta} {z}_{s,6}}{2}\\right) {z}_{n,2}}{2}\\right) {x}_{2} {z}_{i,2} + \\left(- \\frac{\\left(\\frac{e^{i \\theta} {z}_{s,5}}{2} - \\frac{{z}_{s,6}}{2}\\right) {z}_{n,3}}{2} + \\frac{\\left(\\frac{{z}_{s,5}}{2} + \\frac{e^{- i \\theta} {z}_{s,6}}{2}\\right) {z}_{n,2}}{2}\\right) {x}_{3} {z}_{i,3} + \\left(\\frac{\\left(\\frac{e^{i \\theta} {z}_{s,5}}{2} - \\frac{{z}_{s,6}}{2}\\right) {z}_{n,3}}{2} - \\frac{\\left(\\frac{{z}_{s,5}}{2} + \\frac{e^{- i \\theta} {z}_{s,6}}{2}\\right) {z}_{n,2}}{2}\\right) {x}_{4} {z}_{i,4} + \\left(\\frac{\\left(\\frac{e^{i \\theta} {z}_{s,5}}{2} - \\frac{{z}_{s,6}}{2}\\right) {z}_{n,3}}{2} + \\frac{\\left(\\frac{{z}_{s,5}}{2} + \\frac{e^{- i \\theta} {z}_{s,6}}{2}\\right) {z}_{n,2}}{2}\\right) {x}_{1} {z}_{i,1}\\end{matrix}\\right]$"
      ],
      "text/plain": [
       "Matrix([\n",
       "[                                                                                                                                                                                                                                                                                                                                                                              x[1]*z[i, 1]*z[n, 0]/2 + x[2]*z[i, 2]*z[n, 0]/2 + x[3]*z[i, 3]*z[n, 0]/2 + x[4]*z[i, 4]*z[n, 0]/2],\n",
       "[(-(exp(I*\\theta)*z[s, 1]/2 - z[s, 2]/2)*z[n, 2]/2 - (z[s, 1]/2 + exp(-I*\\theta)*z[s, 2]/2)*z[n, 1]/2)*x[4]*z[i, 4] + (-(exp(I*\\theta)*z[s, 1]/2 - z[s, 2]/2)*z[n, 2]/2 + (z[s, 1]/2 + exp(-I*\\theta)*z[s, 2]/2)*z[n, 1]/2)*x[2]*z[i, 2] + ((exp(I*\\theta)*z[s, 1]/2 - z[s, 2]/2)*z[n, 2]/2 - (z[s, 1]/2 + exp(-I*\\theta)*z[s, 2]/2)*z[n, 1]/2)*x[3]*z[i, 3] + ((exp(I*\\theta)*z[s, 1]/2 - z[s, 2]/2)*z[n, 2]/2 + (z[s, 1]/2 + exp(-I*\\theta)*z[s, 2]/2)*z[n, 1]/2)*x[1]*z[i, 1]],\n",
       "[(-(exp(I*\\theta)*z[s, 3]/2 - z[s, 4]/2)*z[n, 3]/2 - (z[s, 3]/2 + exp(-I*\\theta)*z[s, 4]/2)*z[n, 1]/2)*x[3]*z[i, 3] + (-(exp(I*\\theta)*z[s, 3]/2 - z[s, 4]/2)*z[n, 3]/2 + (z[s, 3]/2 + exp(-I*\\theta)*z[s, 4]/2)*z[n, 1]/2)*x[2]*z[i, 2] + ((exp(I*\\theta)*z[s, 3]/2 - z[s, 4]/2)*z[n, 3]/2 - (z[s, 3]/2 + exp(-I*\\theta)*z[s, 4]/2)*z[n, 1]/2)*x[4]*z[i, 4] + ((exp(I*\\theta)*z[s, 3]/2 - z[s, 4]/2)*z[n, 3]/2 + (z[s, 3]/2 + exp(-I*\\theta)*z[s, 4]/2)*z[n, 1]/2)*x[1]*z[i, 1]],\n",
       "[(-(exp(I*\\theta)*z[s, 5]/2 - z[s, 6]/2)*z[n, 3]/2 - (z[s, 5]/2 + exp(-I*\\theta)*z[s, 6]/2)*z[n, 2]/2)*x[2]*z[i, 2] + (-(exp(I*\\theta)*z[s, 5]/2 - z[s, 6]/2)*z[n, 3]/2 + (z[s, 5]/2 + exp(-I*\\theta)*z[s, 6]/2)*z[n, 2]/2)*x[3]*z[i, 3] + ((exp(I*\\theta)*z[s, 5]/2 - z[s, 6]/2)*z[n, 3]/2 - (z[s, 5]/2 + exp(-I*\\theta)*z[s, 6]/2)*z[n, 2]/2)*x[4]*z[i, 4] + ((exp(I*\\theta)*z[s, 5]/2 - z[s, 6]/2)*z[n, 3]/2 + (z[s, 5]/2 + exp(-I*\\theta)*z[s, 6]/2)*z[n, 2]/2)*x[1]*z[i, 1]]])"
      ]
     },
     "execution_count": 15,
     "metadata": {},
     "output_type": "execute_result"
    }
   ],
   "source": [
    "Y = M * X\n",
    "Y"
   ]
  },
  {
   "cell_type": "code",
   "execution_count": 16,
   "metadata": {},
   "outputs": [
    {
     "data": {
      "text/latex": [
       "$\\displaystyle \\left[\\begin{matrix}\\frac{\\left(\\overline{{x}_{1}} \\overline{{z}_{i,1}} + \\overline{{x}_{2}} \\overline{{z}_{i,2}} + \\overline{{x}_{3}} \\overline{{z}_{i,3}} + \\overline{{x}_{4}} \\overline{{z}_{i,4}}\\right) \\left({x}_{1} {z}_{i,1} + {x}_{2} {z}_{i,2} + {x}_{3} {z}_{i,3} + {x}_{4} {z}_{i,4}\\right) \\overline{{z}_{n,0}} {z}_{n,0}}{4}\\\\\\frac{\\left(\\left(- \\left(- e^{i \\theta} \\overline{{z}_{s,2}} + \\overline{{z}_{s,1}}\\right) \\overline{{z}_{n,2}} + \\left(e^{i \\theta} \\overline{{z}_{s,2}} + \\overline{{z}_{s,1}}\\right) e^{i \\theta} \\overline{{z}_{n,1}}\\right) \\overline{{x}_{3}} \\overline{{z}_{i,3}} + \\left(\\left(- e^{i \\theta} \\overline{{z}_{s,2}} + \\overline{{z}_{s,1}}\\right) \\overline{{z}_{n,2}} + \\left(e^{i \\theta} \\overline{{z}_{s,2}} + \\overline{{z}_{s,1}}\\right) e^{i \\theta} \\overline{{z}_{n,1}}\\right) \\overline{{x}_{4}} \\overline{{z}_{i,4}} - \\left(- \\left(e^{i \\theta} \\overline{{z}_{s,2}} - \\overline{{z}_{s,1}}\\right) \\overline{{z}_{n,2}} + \\left(e^{i \\theta} \\overline{{z}_{s,2}} + \\overline{{z}_{s,1}}\\right) e^{i \\theta} \\overline{{z}_{n,1}}\\right) \\overline{{x}_{1}} \\overline{{z}_{i,1}} - \\left(\\left(e^{i \\theta} \\overline{{z}_{s,2}} - \\overline{{z}_{s,1}}\\right) \\overline{{z}_{n,2}} + \\left(e^{i \\theta} \\overline{{z}_{s,2}} + \\overline{{z}_{s,1}}\\right) e^{i \\theta} \\overline{{z}_{n,1}}\\right) \\overline{{x}_{2}} \\overline{{z}_{i,2}}\\right) \\left(\\left(\\left(e^{i \\theta} {z}_{s,1} - {z}_{s,2}\\right) e^{i \\theta} {z}_{n,2} - \\left(e^{i \\theta} {z}_{s,1} + {z}_{s,2}\\right) {z}_{n,1}\\right) {x}_{2} {z}_{i,2} - \\left(\\left(e^{i \\theta} {z}_{s,1} - {z}_{s,2}\\right) e^{i \\theta} {z}_{n,2} - \\left(e^{i \\theta} {z}_{s,1} + {z}_{s,2}\\right) {z}_{n,1}\\right) {x}_{3} {z}_{i,3} - \\left(\\left(e^{i \\theta} {z}_{s,1} - {z}_{s,2}\\right) e^{i \\theta} {z}_{n,2} + \\left(e^{i \\theta} {z}_{s,1} + {z}_{s,2}\\right) {z}_{n,1}\\right) {x}_{1} {z}_{i,1} + \\left(\\left(e^{i \\theta} {z}_{s,1} - {z}_{s,2}\\right) e^{i \\theta} {z}_{n,2} + \\left(e^{i \\theta} {z}_{s,1} + {z}_{s,2}\\right) {z}_{n,1}\\right) {x}_{4} {z}_{i,4}\\right) e^{- 2 i \\theta}}{16}\\\\\\frac{\\left(\\left(- \\left(- e^{i \\theta} \\overline{{z}_{s,4}} + \\overline{{z}_{s,3}}\\right) \\overline{{z}_{n,3}} + \\left(e^{i \\theta} \\overline{{z}_{s,4}} + \\overline{{z}_{s,3}}\\right) e^{i \\theta} \\overline{{z}_{n,1}}\\right) \\overline{{x}_{4}} \\overline{{z}_{i,4}} + \\left(\\left(- e^{i \\theta} \\overline{{z}_{s,4}} + \\overline{{z}_{s,3}}\\right) \\overline{{z}_{n,3}} + \\left(e^{i \\theta} \\overline{{z}_{s,4}} + \\overline{{z}_{s,3}}\\right) e^{i \\theta} \\overline{{z}_{n,1}}\\right) \\overline{{x}_{3}} \\overline{{z}_{i,3}} - \\left(- \\left(e^{i \\theta} \\overline{{z}_{s,4}} - \\overline{{z}_{s,3}}\\right) \\overline{{z}_{n,3}} + \\left(e^{i \\theta} \\overline{{z}_{s,4}} + \\overline{{z}_{s,3}}\\right) e^{i \\theta} \\overline{{z}_{n,1}}\\right) \\overline{{x}_{1}} \\overline{{z}_{i,1}} - \\left(\\left(e^{i \\theta} \\overline{{z}_{s,4}} - \\overline{{z}_{s,3}}\\right) \\overline{{z}_{n,3}} + \\left(e^{i \\theta} \\overline{{z}_{s,4}} + \\overline{{z}_{s,3}}\\right) e^{i \\theta} \\overline{{z}_{n,1}}\\right) \\overline{{x}_{2}} \\overline{{z}_{i,2}}\\right) \\left(\\left(\\left(e^{i \\theta} {z}_{s,3} - {z}_{s,4}\\right) e^{i \\theta} {z}_{n,3} - \\left(e^{i \\theta} {z}_{s,3} + {z}_{s,4}\\right) {z}_{n,1}\\right) {x}_{2} {z}_{i,2} - \\left(\\left(e^{i \\theta} {z}_{s,3} - {z}_{s,4}\\right) e^{i \\theta} {z}_{n,3} - \\left(e^{i \\theta} {z}_{s,3} + {z}_{s,4}\\right) {z}_{n,1}\\right) {x}_{4} {z}_{i,4} - \\left(\\left(e^{i \\theta} {z}_{s,3} - {z}_{s,4}\\right) e^{i \\theta} {z}_{n,3} + \\left(e^{i \\theta} {z}_{s,3} + {z}_{s,4}\\right) {z}_{n,1}\\right) {x}_{1} {z}_{i,1} + \\left(\\left(e^{i \\theta} {z}_{s,3} - {z}_{s,4}\\right) e^{i \\theta} {z}_{n,3} + \\left(e^{i \\theta} {z}_{s,3} + {z}_{s,4}\\right) {z}_{n,1}\\right) {x}_{3} {z}_{i,3}\\right) e^{- 2 i \\theta}}{16}\\\\\\frac{\\left(\\left(- \\left(- e^{i \\theta} \\overline{{z}_{s,6}} + \\overline{{z}_{s,5}}\\right) \\overline{{z}_{n,3}} + \\left(e^{i \\theta} \\overline{{z}_{s,6}} + \\overline{{z}_{s,5}}\\right) e^{i \\theta} \\overline{{z}_{n,2}}\\right) \\overline{{x}_{4}} \\overline{{z}_{i,4}} + \\left(\\left(- e^{i \\theta} \\overline{{z}_{s,6}} + \\overline{{z}_{s,5}}\\right) \\overline{{z}_{n,3}} + \\left(e^{i \\theta} \\overline{{z}_{s,6}} + \\overline{{z}_{s,5}}\\right) e^{i \\theta} \\overline{{z}_{n,2}}\\right) \\overline{{x}_{2}} \\overline{{z}_{i,2}} - \\left(- \\left(e^{i \\theta} \\overline{{z}_{s,6}} - \\overline{{z}_{s,5}}\\right) \\overline{{z}_{n,3}} + \\left(e^{i \\theta} \\overline{{z}_{s,6}} + \\overline{{z}_{s,5}}\\right) e^{i \\theta} \\overline{{z}_{n,2}}\\right) \\overline{{x}_{1}} \\overline{{z}_{i,1}} - \\left(\\left(e^{i \\theta} \\overline{{z}_{s,6}} - \\overline{{z}_{s,5}}\\right) \\overline{{z}_{n,3}} + \\left(e^{i \\theta} \\overline{{z}_{s,6}} + \\overline{{z}_{s,5}}\\right) e^{i \\theta} \\overline{{z}_{n,2}}\\right) \\overline{{x}_{3}} \\overline{{z}_{i,3}}\\right) \\left(\\left(\\left(e^{i \\theta} {z}_{s,5} - {z}_{s,6}\\right) e^{i \\theta} {z}_{n,3} - \\left(e^{i \\theta} {z}_{s,5} + {z}_{s,6}\\right) {z}_{n,2}\\right) {x}_{3} {z}_{i,3} - \\left(\\left(e^{i \\theta} {z}_{s,5} - {z}_{s,6}\\right) e^{i \\theta} {z}_{n,3} - \\left(e^{i \\theta} {z}_{s,5} + {z}_{s,6}\\right) {z}_{n,2}\\right) {x}_{4} {z}_{i,4} - \\left(\\left(e^{i \\theta} {z}_{s,5} - {z}_{s,6}\\right) e^{i \\theta} {z}_{n,3} + \\left(e^{i \\theta} {z}_{s,5} + {z}_{s,6}\\right) {z}_{n,2}\\right) {x}_{1} {z}_{i,1} + \\left(\\left(e^{i \\theta} {z}_{s,5} - {z}_{s,6}\\right) e^{i \\theta} {z}_{n,3} + \\left(e^{i \\theta} {z}_{s,5} + {z}_{s,6}\\right) {z}_{n,2}\\right) {x}_{2} {z}_{i,2}\\right) e^{- 2 i \\theta}}{16}\\end{matrix}\\right]$"
      ],
      "text/plain": [
       "Matrix([\n",
       "[                                                                                                                                                                                                                                                                                                                                                                                                                                                                                                                                                                                                                                                                                                                                                                                                                                                                                                                                                                                                                                                                                                                   (conjugate(x[1])*conjugate(z[i, 1]) + conjugate(x[2])*conjugate(z[i, 2]) + conjugate(x[3])*conjugate(z[i, 3]) + conjugate(x[4])*conjugate(z[i, 4]))*(x[1]*z[i, 1] + x[2]*z[i, 2] + x[3]*z[i, 3] + x[4]*z[i, 4])*conjugate(z[n, 0])*z[n, 0]/4],\n",
       "[((-(-exp(I*\\theta)*conjugate(z[s, 2]) + conjugate(z[s, 1]))*conjugate(z[n, 2]) + (exp(I*\\theta)*conjugate(z[s, 2]) + conjugate(z[s, 1]))*exp(I*\\theta)*conjugate(z[n, 1]))*conjugate(x[3])*conjugate(z[i, 3]) + ((-exp(I*\\theta)*conjugate(z[s, 2]) + conjugate(z[s, 1]))*conjugate(z[n, 2]) + (exp(I*\\theta)*conjugate(z[s, 2]) + conjugate(z[s, 1]))*exp(I*\\theta)*conjugate(z[n, 1]))*conjugate(x[4])*conjugate(z[i, 4]) - (-(exp(I*\\theta)*conjugate(z[s, 2]) - conjugate(z[s, 1]))*conjugate(z[n, 2]) + (exp(I*\\theta)*conjugate(z[s, 2]) + conjugate(z[s, 1]))*exp(I*\\theta)*conjugate(z[n, 1]))*conjugate(x[1])*conjugate(z[i, 1]) - ((exp(I*\\theta)*conjugate(z[s, 2]) - conjugate(z[s, 1]))*conjugate(z[n, 2]) + (exp(I*\\theta)*conjugate(z[s, 2]) + conjugate(z[s, 1]))*exp(I*\\theta)*conjugate(z[n, 1]))*conjugate(x[2])*conjugate(z[i, 2]))*(((exp(I*\\theta)*z[s, 1] - z[s, 2])*exp(I*\\theta)*z[n, 2] - (exp(I*\\theta)*z[s, 1] + z[s, 2])*z[n, 1])*x[2]*z[i, 2] - ((exp(I*\\theta)*z[s, 1] - z[s, 2])*exp(I*\\theta)*z[n, 2] - (exp(I*\\theta)*z[s, 1] + z[s, 2])*z[n, 1])*x[3]*z[i, 3] - ((exp(I*\\theta)*z[s, 1] - z[s, 2])*exp(I*\\theta)*z[n, 2] + (exp(I*\\theta)*z[s, 1] + z[s, 2])*z[n, 1])*x[1]*z[i, 1] + ((exp(I*\\theta)*z[s, 1] - z[s, 2])*exp(I*\\theta)*z[n, 2] + (exp(I*\\theta)*z[s, 1] + z[s, 2])*z[n, 1])*x[4]*z[i, 4])*exp(-2*I*\\theta)/16],\n",
       "[((-(-exp(I*\\theta)*conjugate(z[s, 4]) + conjugate(z[s, 3]))*conjugate(z[n, 3]) + (exp(I*\\theta)*conjugate(z[s, 4]) + conjugate(z[s, 3]))*exp(I*\\theta)*conjugate(z[n, 1]))*conjugate(x[4])*conjugate(z[i, 4]) + ((-exp(I*\\theta)*conjugate(z[s, 4]) + conjugate(z[s, 3]))*conjugate(z[n, 3]) + (exp(I*\\theta)*conjugate(z[s, 4]) + conjugate(z[s, 3]))*exp(I*\\theta)*conjugate(z[n, 1]))*conjugate(x[3])*conjugate(z[i, 3]) - (-(exp(I*\\theta)*conjugate(z[s, 4]) - conjugate(z[s, 3]))*conjugate(z[n, 3]) + (exp(I*\\theta)*conjugate(z[s, 4]) + conjugate(z[s, 3]))*exp(I*\\theta)*conjugate(z[n, 1]))*conjugate(x[1])*conjugate(z[i, 1]) - ((exp(I*\\theta)*conjugate(z[s, 4]) - conjugate(z[s, 3]))*conjugate(z[n, 3]) + (exp(I*\\theta)*conjugate(z[s, 4]) + conjugate(z[s, 3]))*exp(I*\\theta)*conjugate(z[n, 1]))*conjugate(x[2])*conjugate(z[i, 2]))*(((exp(I*\\theta)*z[s, 3] - z[s, 4])*exp(I*\\theta)*z[n, 3] - (exp(I*\\theta)*z[s, 3] + z[s, 4])*z[n, 1])*x[2]*z[i, 2] - ((exp(I*\\theta)*z[s, 3] - z[s, 4])*exp(I*\\theta)*z[n, 3] - (exp(I*\\theta)*z[s, 3] + z[s, 4])*z[n, 1])*x[4]*z[i, 4] - ((exp(I*\\theta)*z[s, 3] - z[s, 4])*exp(I*\\theta)*z[n, 3] + (exp(I*\\theta)*z[s, 3] + z[s, 4])*z[n, 1])*x[1]*z[i, 1] + ((exp(I*\\theta)*z[s, 3] - z[s, 4])*exp(I*\\theta)*z[n, 3] + (exp(I*\\theta)*z[s, 3] + z[s, 4])*z[n, 1])*x[3]*z[i, 3])*exp(-2*I*\\theta)/16],\n",
       "[((-(-exp(I*\\theta)*conjugate(z[s, 6]) + conjugate(z[s, 5]))*conjugate(z[n, 3]) + (exp(I*\\theta)*conjugate(z[s, 6]) + conjugate(z[s, 5]))*exp(I*\\theta)*conjugate(z[n, 2]))*conjugate(x[4])*conjugate(z[i, 4]) + ((-exp(I*\\theta)*conjugate(z[s, 6]) + conjugate(z[s, 5]))*conjugate(z[n, 3]) + (exp(I*\\theta)*conjugate(z[s, 6]) + conjugate(z[s, 5]))*exp(I*\\theta)*conjugate(z[n, 2]))*conjugate(x[2])*conjugate(z[i, 2]) - (-(exp(I*\\theta)*conjugate(z[s, 6]) - conjugate(z[s, 5]))*conjugate(z[n, 3]) + (exp(I*\\theta)*conjugate(z[s, 6]) + conjugate(z[s, 5]))*exp(I*\\theta)*conjugate(z[n, 2]))*conjugate(x[1])*conjugate(z[i, 1]) - ((exp(I*\\theta)*conjugate(z[s, 6]) - conjugate(z[s, 5]))*conjugate(z[n, 3]) + (exp(I*\\theta)*conjugate(z[s, 6]) + conjugate(z[s, 5]))*exp(I*\\theta)*conjugate(z[n, 2]))*conjugate(x[3])*conjugate(z[i, 3]))*(((exp(I*\\theta)*z[s, 5] - z[s, 6])*exp(I*\\theta)*z[n, 3] - (exp(I*\\theta)*z[s, 5] + z[s, 6])*z[n, 2])*x[3]*z[i, 3] - ((exp(I*\\theta)*z[s, 5] - z[s, 6])*exp(I*\\theta)*z[n, 3] - (exp(I*\\theta)*z[s, 5] + z[s, 6])*z[n, 2])*x[4]*z[i, 4] - ((exp(I*\\theta)*z[s, 5] - z[s, 6])*exp(I*\\theta)*z[n, 3] + (exp(I*\\theta)*z[s, 5] + z[s, 6])*z[n, 2])*x[1]*z[i, 1] + ((exp(I*\\theta)*z[s, 5] - z[s, 6])*exp(I*\\theta)*z[n, 3] + (exp(I*\\theta)*z[s, 5] + z[s, 6])*z[n, 2])*x[2]*z[i, 2])*exp(-2*I*\\theta)/16]])"
      ]
     },
     "execution_count": 16,
     "metadata": {},
     "output_type": "execute_result"
    }
   ],
   "source": [
    "sp.Matrix([sp.simplify(y * sp.conjugate(y)) for y in Y])"
   ]
  },
  {
   "cell_type": "markdown",
   "metadata": {},
   "source": [
    "<div align=center>\n",
    "\n",
    "---\n",
    "\n",
    "# Application\n",
    "\n",
    "</div>"
   ]
  },
  {
   "cell_type": "code",
   "execution_count": 17,
   "metadata": {},
   "outputs": [],
   "source": [
    "output = sp.simplify(Y.subs(theta, sp.pi/2))"
   ]
  },
  {
   "cell_type": "code",
   "execution_count": 18,
   "metadata": {},
   "outputs": [
    {
     "data": {
      "text/latex": [
       "$\\displaystyle \\left[\\begin{matrix}\\frac{\\left({z}_{i,1} + {z}_{i,2} + {z}_{i,3} + {z}_{i,4}\\right) {z}_{n,0}}{2}\\\\- \\frac{\\left(\\left(i {z}_{s,1} - {z}_{s,2}\\right) {z}_{n,2} - \\left({z}_{s,1} - i {z}_{s,2}\\right) {z}_{n,1}\\right) {z}_{i,2}}{4} + \\frac{\\left(\\left(i {z}_{s,1} - {z}_{s,2}\\right) {z}_{n,2} - \\left({z}_{s,1} - i {z}_{s,2}\\right) {z}_{n,1}\\right) {z}_{i,3}}{4} + \\frac{\\left(\\left(i {z}_{s,1} - {z}_{s,2}\\right) {z}_{n,2} + \\left({z}_{s,1} - i {z}_{s,2}\\right) {z}_{n,1}\\right) {z}_{i,1}}{4} - \\frac{\\left(\\left(i {z}_{s,1} - {z}_{s,2}\\right) {z}_{n,2} + \\left({z}_{s,1} - i {z}_{s,2}\\right) {z}_{n,1}\\right) {z}_{i,4}}{4}\\\\- \\frac{\\left(\\left(i {z}_{s,3} - {z}_{s,4}\\right) {z}_{n,3} - \\left({z}_{s,3} - i {z}_{s,4}\\right) {z}_{n,1}\\right) {z}_{i,2}}{4} + \\frac{\\left(\\left(i {z}_{s,3} - {z}_{s,4}\\right) {z}_{n,3} - \\left({z}_{s,3} - i {z}_{s,4}\\right) {z}_{n,1}\\right) {z}_{i,4}}{4} + \\frac{\\left(\\left(i {z}_{s,3} - {z}_{s,4}\\right) {z}_{n,3} + \\left({z}_{s,3} - i {z}_{s,4}\\right) {z}_{n,1}\\right) {z}_{i,1}}{4} - \\frac{\\left(\\left(i {z}_{s,3} - {z}_{s,4}\\right) {z}_{n,3} + \\left({z}_{s,3} - i {z}_{s,4}\\right) {z}_{n,1}\\right) {z}_{i,3}}{4}\\\\- \\frac{\\left(\\left(i {z}_{s,5} - {z}_{s,6}\\right) {z}_{n,3} - \\left({z}_{s,5} - i {z}_{s,6}\\right) {z}_{n,2}\\right) {z}_{i,3}}{4} + \\frac{\\left(\\left(i {z}_{s,5} - {z}_{s,6}\\right) {z}_{n,3} - \\left({z}_{s,5} - i {z}_{s,6}\\right) {z}_{n,2}\\right) {z}_{i,4}}{4} + \\frac{\\left(\\left(i {z}_{s,5} - {z}_{s,6}\\right) {z}_{n,3} + \\left({z}_{s,5} - i {z}_{s,6}\\right) {z}_{n,2}\\right) {z}_{i,1}}{4} - \\frac{\\left(\\left(i {z}_{s,5} - {z}_{s,6}\\right) {z}_{n,3} + \\left({z}_{s,5} - i {z}_{s,6}\\right) {z}_{n,2}\\right) {z}_{i,2}}{4}\\end{matrix}\\right]$"
      ],
      "text/plain": [
       "Matrix([\n",
       "[                                                                                                                                                                                                                                                             (z[i, 1] + z[i, 2] + z[i, 3] + z[i, 4])*z[n, 0]/2],\n",
       "[-((I*z[s, 1] - z[s, 2])*z[n, 2] - (z[s, 1] - I*z[s, 2])*z[n, 1])*z[i, 2]/4 + ((I*z[s, 1] - z[s, 2])*z[n, 2] - (z[s, 1] - I*z[s, 2])*z[n, 1])*z[i, 3]/4 + ((I*z[s, 1] - z[s, 2])*z[n, 2] + (z[s, 1] - I*z[s, 2])*z[n, 1])*z[i, 1]/4 - ((I*z[s, 1] - z[s, 2])*z[n, 2] + (z[s, 1] - I*z[s, 2])*z[n, 1])*z[i, 4]/4],\n",
       "[-((I*z[s, 3] - z[s, 4])*z[n, 3] - (z[s, 3] - I*z[s, 4])*z[n, 1])*z[i, 2]/4 + ((I*z[s, 3] - z[s, 4])*z[n, 3] - (z[s, 3] - I*z[s, 4])*z[n, 1])*z[i, 4]/4 + ((I*z[s, 3] - z[s, 4])*z[n, 3] + (z[s, 3] - I*z[s, 4])*z[n, 1])*z[i, 1]/4 - ((I*z[s, 3] - z[s, 4])*z[n, 3] + (z[s, 3] - I*z[s, 4])*z[n, 1])*z[i, 3]/4],\n",
       "[-((I*z[s, 5] - z[s, 6])*z[n, 3] - (z[s, 5] - I*z[s, 6])*z[n, 2])*z[i, 3]/4 + ((I*z[s, 5] - z[s, 6])*z[n, 3] - (z[s, 5] - I*z[s, 6])*z[n, 2])*z[i, 4]/4 + ((I*z[s, 5] - z[s, 6])*z[n, 3] + (z[s, 5] - I*z[s, 6])*z[n, 2])*z[i, 1]/4 - ((I*z[s, 5] - z[s, 6])*z[n, 3] + (z[s, 5] - I*z[s, 6])*z[n, 2])*z[i, 2]/4]])"
      ]
     },
     "execution_count": 18,
     "metadata": {},
     "output_type": "execute_result"
    }
   ],
   "source": [
    "for i in X:\n",
    "    output = output.subs(i, 1)\n",
    "output"
   ]
  },
  {
   "cell_type": "code",
   "execution_count": 19,
   "metadata": {},
   "outputs": [
    {
     "data": {
      "text/latex": [
       "$\\displaystyle \\left[\\begin{matrix}2.00013809542317 - 0.000157797304853144 i\\\\\\left(0.99999904341041 - 0.00138317687428144 i\\right) \\left(0.500471234993092 - 0.500471234993092 i + 0.500302235107101 \\left(-1 + i\\right) e^{0.00204172135082958 i}\\right)\\\\\\left(0.999998289451195 - 0.00184962014593246 i\\right) \\left(0.500471234993092 \\cdot \\left(1 - i\\right) e^{0.000466443885229215 i} + 0.500088324639149 \\left(-1 + i\\right) e^{0.00138317731532581 i}\\right)\\\\\\left(0.999999891215053 - 0.000466443868315191 i\\right) \\left(-0.500088324639149 + 0.500302235107101 \\cdot \\left(1 - i\\right) e^{0.00112498792073298 i} + 0.500088324639149 i\\right)\\end{matrix}\\right]$"
      ],
      "text/plain": [
       "Matrix([\n",
       "[                                                                                                                  2.00013809542317 - 0.000157797304853144*I],\n",
       "[               (0.99999904341041 - 0.00138317687428144*I)*(0.500471234993092 - 0.500471234993092*I + 0.500302235107101*(-1 + I)*exp(0.00204172135082958*I))],\n",
       "[(0.999998289451195 - 0.00184962014593246*I)*(0.500471234993092*(1 - I)*exp(0.000466443885229215*I) + 0.500088324639149*(-1 + I)*exp(0.00138317731532581*I))],\n",
       "[             (0.999999891215053 - 0.000466443868315191*I)*(-0.500088324639149 + 0.500302235107101*(1 - I)*exp(0.00112498792073298*I) + 0.500088324639149*I)]])"
      ]
     },
     "execution_count": 19,
     "metadata": {},
     "output_type": "execute_result"
    }
   ],
   "source": [
    "output = sp.simplify(set_noise(output, phase_rms=0.001, amplitude_rms=0.001))\n",
    "output"
   ]
  },
  {
   "cell_type": "code",
   "execution_count": 20,
   "metadata": {},
   "outputs": [
    {
     "data": {
      "text/latex": [
       "$\\displaystyle \\left[\\begin{matrix}4.00055242566303\\\\1.00154756701734 - 0.50077375494771 e^{0.00204172135082958 i} - 0.50077375494771 e^{- 0.00204172135082958 i}\\\\1.0011195789918 - 0.500559642875562 e^{0.000916733430096597 i} - 5.55111512312578 \\cdot 10^{-17} i - 0.500559642875562 e^{- 0.000916733430096597 i}\\\\1.0007813177871 - 0.500390613135863 e^{0.00112498792073298 i} - 0.500390613135863 e^{- 0.00112498792073298 i}\\end{matrix}\\right]$"
      ],
      "text/plain": [
       "Matrix([\n",
       "[                                                                                                                         4.00055242566303],\n",
       "[                            1.00154756701734 - 0.50077375494771*exp(0.00204172135082958*I) - 0.50077375494771*exp(-0.00204172135082958*I)],\n",
       "[1.0011195789918 - 0.500559642875562*exp(0.000916733430096597*I) - 5.55111512312578e-17*I - 0.500559642875562*exp(-0.000916733430096597*I)],\n",
       "[                           1.0007813177871 - 0.500390613135863*exp(0.00112498792073298*I) - 0.500390613135863*exp(-0.00112498792073298*I)]])"
      ]
     },
     "execution_count": 20,
     "metadata": {},
     "output_type": "execute_result"
    }
   ],
   "source": [
    "intensities = sp.Matrix([ sp.Abs(i)**2 for i in output ])\n",
    "intensities"
   ]
  },
  {
   "cell_type": "code",
   "execution_count": 21,
   "metadata": {},
   "outputs": [
    {
     "data": {
      "text/latex": [
       "$\\displaystyle 7.00400088945928 - 0.50077375494771 e^{0.00204172135082958 i} - 0.500390613135863 e^{0.00112498792073298 i} - 0.500559642875562 e^{0.000916733430096597 i} - 5.55111512312578 \\cdot 10^{-17} i - 0.500559642875562 e^{- 0.000916733430096597 i} - 0.500390613135863 e^{- 0.00112498792073298 i} - 0.50077375494771 e^{- 0.00204172135082958 i}$"
      ],
      "text/plain": [
       "7.00400088945928 - 0.50077375494771*exp(0.00204172135082958*I) - 0.500390613135863*exp(0.00112498792073298*I) - 0.500559642875562*exp(0.000916733430096597*I) - 5.55111512312578e-17*I - 0.500559642875562*exp(-0.000916733430096597*I) - 0.500390613135863*exp(-0.00112498792073298*I) - 0.50077375494771*exp(-0.00204172135082958*I)"
      ]
     },
     "execution_count": 21,
     "metadata": {},
     "output_type": "execute_result"
    }
   ],
   "source": [
    "output_energy = np.sum(intensities)\n",
    "output_energy"
   ]
  }
 ],
 "metadata": {
  "kernelspec": {
   "display_name": "venv",
   "language": "python",
   "name": "python3"
  },
  "language_info": {
   "codemirror_mode": {
    "name": "ipython",
    "version": 3
   },
   "file_extension": ".py",
   "mimetype": "text/x-python",
   "name": "python",
   "nbconvert_exporter": "python",
   "pygments_lexer": "ipython3",
   "version": "3.10.11"
  }
 },
 "nbformat": 4,
 "nbformat_minor": 2
}

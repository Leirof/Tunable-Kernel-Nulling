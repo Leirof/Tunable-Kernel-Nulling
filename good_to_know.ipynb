{
 "cells": [
  {
   "cell_type": "code",
   "execution_count": 1,
   "metadata": {},
   "outputs": [],
   "source": [
    "import numpy as np\n",
    "import matplotlib.pyplot as plt\n",
    "import ipywidgets as widgets\n",
    "from src import *"
   ]
  },
  {
   "cell_type": "markdown",
   "metadata": {},
   "source": [
    "---\n",
    "\n",
    "<div align=center>\n",
    "\n",
    "# RMS (Root Mean Square)\n",
    "\n",
    "$$\n",
    "RMS = \\sqrt{ \\frac{1}{T}\\cdot \\int_{t_0}^{t_0 + T} x^2(t)\\cdot \\mathrm{d}t}\n",
    "$$"
   ]
  },
  {
   "cell_type": "code",
   "execution_count": 2,
   "metadata": {},
   "outputs": [
    {
     "data": {
      "image/png": "[encoded data removed]",
      "text/plain": [
       "<Figure size 640x480 with 1 Axes>"
      ]
     },
     "metadata": {},
     "output_type": "display_data"
    }
   ],
   "source": [
    "x = np.linspace(-1000,1000,1000)\n",
    "y = gaussian(x, 1, 100)\n",
    "m = np.mean(y)\n",
    "RMS = np.sqrt(np.mean(y**2))\n",
    "\n",
    "plt.plot(x, y, label=\"y\")\n",
    "plt.plot(x, np.ones_like(x)*m, label=\"mean\")\n",
    "plt.plot(x, np.ones_like(x)*RMS, label=\"RMS\")\n",
    "plt.legend()\n",
    "plt.show()"
   ]
  },
  {
   "cell_type": "markdown",
   "metadata": {},
   "source": [
    "$\\rightarrow$ RMS is more sensitive to outliers\n",
    "\n",
    "$\\rightarrow$ In the context of perturbations, the usage of RMS instead of the mean is more relevant because a lower RMS also indicates a lower variance in the perturbations"
   ]
  },
  {
   "cell_type": "markdown",
   "metadata": {},
   "source": [
    "<div align=center>\n",
    "\n",
    "---\n",
    "\n",
    "# Polynôme de Zernike\n",
    "\n",
    "https://fr.wikipedia.org/wiki/Polyn%C3%B4me_de_Zernike\n",
    "\n",
    "</div>\n",
    "\n",
    "\n",
    "Pair:\n",
    "$$\\displaystyle Z_{n}^{m}(\\rho ,\\varphi )=R_{n}^{m}(\\rho )\\,\\cos(m\\,\\varphi )\\!$$\n",
    "Impair:\n",
    "$$\\displaystyle Z_{n}^{-m}(\\rho ,\\varphi )=R_{n}^{m}(\\rho )\\,\\sin(m\\,\\varphi ),\\!$$\n",
    "\n",
    "Avec:\n",
    "$$\n",
    "\\displaystyle R_{n}^{m}(\\rho )=\\sum _{k=0}^{\\tfrac {n-m}{2}}{\\frac {(-1)^{k}\\,(n-k)!}{k!\\left({\\tfrac {n+m}{2}}-k\\right)!\\left({\\tfrac {n-m}{2}}-k\\right)!}}\\;\\rho ^{n-2k}\n",
    "$$\n",
    "\n",
    "- $\\rho$ est la distance au centre du disque unité (0 ≤ $\\rho$ ≤ 1)\n",
    "- $\\varphi$ est l'angle polaire (0 ≤ $\\varphi$ ≤ 2π)\n",
    "- $n$ et $m$ sont des entiers tels que $n \\geq m \\geq 0$ et $n-m$ est pair\n",
    "\n",
    "> A quoi ça sert ? 🤔\n",
    "\n",
    "Une déformation de front d'onde dû à des aberrations optiques peut être décrite par une combinaison linéaire de polynômes de Zernike. Chaque polynôme de Zernike correspond à une aberration optique particulière.\n",
    "\n",
    "$$\n",
    "\\displaystyle W(\\rho ,\\varphi )=\\sum _{n=0}^{\\infty }\\sum _{m=-n}^{n}a_{n}^{m}\\,Z_{n}^{m}(\\rho ,\\varphi )\n",
    "$$\n",
    "\n",
    "> Ok, et du coup, ça sert à quoi ? 🤔\n",
    "\n",
    "Avoir cette forme décomposée (et généralement approximé en prenant un nombre fini de polynômes de Zernike) permet de déterminer formellement comment déformer un front d'onde pour compenser les aberrations optiques."
   ]
  },
  {
   "cell_type": "code",
   "execution_count": 3,
   "metadata": {},
   "outputs": [
    {
     "data": {
      "application/vnd.jupyter.widget-view+json": {
       "model_id": "74a3d2eb0a244ae68042892746abe63d",
       "version_major": 2,
       "version_minor": 0
      },
      "text/plain": [
       "interactive(children=(IntSlider(value=0, continuous_update=False, description='n:'), IntSlider(value=0, contin…"
      ]
     },
     "metadata": {},
     "output_type": "display_data"
    }
   ],
   "source": [
    "def zernike(n,m):\n",
    "    X, Y = np.meshgrid(np.linspace(-1,1,100), np.linspace(-1,1,100))\n",
    "    RHO = np.sqrt(X**2 + Y**2)\n",
    "    PHI = np.arctan2(Y,X)\n",
    "\n",
    "    def R(n,m,rho):\n",
    "        R = np.zeros_like(rho)\n",
    "        if (n-m)%2==0:\n",
    "            for k in range((n-m)//2+1):\n",
    "                R += (-1)**k \\\n",
    "                    * np.math.factorial(n-k) \\\n",
    "                    / (np.math.factorial(k) \\\n",
    "                    * np.math.factorial((n+m)//2-k) \\\n",
    "                    * np.math.factorial((n-m)//2-k)) \\\n",
    "                    * rho**(n-2*k)\n",
    "        return R\n",
    "    \n",
    "    mask = RHO <= 1\n",
    "    RHO = RHO * mask\n",
    "    \n",
    "    return R(n,m,RHO) * np.cos(m*PHI)\n",
    "\n",
    "n_slider = widgets.IntSlider(\n",
    "    value=0,\n",
    "    min=0,\n",
    "    max=100,\n",
    "    step=1,\n",
    "    description='n:',\n",
    "    disabled=False,\n",
    "    continuous_update=False,\n",
    "    orientation='horizontal',\n",
    "    readout=True,\n",
    "    readout_format='d'\n",
    ")\n",
    "\n",
    "def get_min_max_m(n):\n",
    "    if n%2==0:\n",
    "        start = 0\n",
    "    else:\n",
    "        start=1\n",
    "    return min(n,start), n\n",
    "\n",
    "def get_m_slider():\n",
    "\n",
    "    start, stop = get_min_max_m(n_slider.value)\n",
    "\n",
    "    m_slider = widgets.IntSlider(\n",
    "        value=start,\n",
    "        min=start,\n",
    "        max=stop,\n",
    "        step=2,\n",
    "        description='m:',\n",
    "        disabled=True,\n",
    "        continuous_update=False,\n",
    "        orientation='horizontal',\n",
    "        readout=True,\n",
    "        readout_format='d'\n",
    "    )\n",
    "\n",
    "    return m_slider\n",
    "\n",
    "def update_slider_minmax(slider, min, max):\n",
    "\n",
    "    slider.disabled = False\n",
    "    if min == max:\n",
    "        slider.disabled = True\n",
    "        max += 1\n",
    "\n",
    "    if min < slider.max:\n",
    "        slider.min = min\n",
    "        slider.max = max\n",
    "        return\n",
    "\n",
    "    if max > slider.min:\n",
    "        slider.max = max\n",
    "        slider.min = min\n",
    "        return\n",
    "    \n",
    "    raise ValueError(\"min and max are out of range\")\n",
    "\n",
    "m_slider = get_m_slider()\n",
    "\n",
    "def update_m_slider(change):\n",
    "    start, stop = get_min_max_m(n_slider.value)\n",
    "    update_slider_minmax(m_slider, start, stop)\n",
    "    \n",
    "    m_slider.value = start\n",
    "\n",
    "def plot_zernike(n,m):\n",
    "    plt.title(f\"Zernike({n},{m})\")\n",
    "    plt.imshow(zernike(n,m))\n",
    "    plt.colorbar()\n",
    "    plt.show()\n",
    "\n",
    "n_slider.observe(update_m_slider, 'value')\n",
    "_= widgets.interact(plot_zernike, n=n_slider, m=m_slider)"
   ]
  }
 ],
 "metadata": {
  "kernelspec": {
   "display_name": "Python 3",
   "language": "python",
   "name": "python3"
  },
  "language_info": {
   "codemirror_mode": {
    "name": "ipython",
    "version": 3
   },
   "file_extension": ".py",
   "mimetype": "text/x-python",
   "name": "python",
   "nbconvert_exporter": "python",
   "pygments_lexer": "ipython3",
   "version": "3.10.11"
  }
 },
 "nbformat": 4,
 "nbformat_minor": 2
}

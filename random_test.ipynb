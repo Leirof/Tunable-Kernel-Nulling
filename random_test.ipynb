{
 "cells": [
  {
   "cell_type": "code",
   "execution_count": 1,
   "metadata": {},
   "outputs": [
    {
     "name": "stdout",
     "output_type": "stream",
     "text": [
      "Requirement already satisfied: scipy in c:\\users\\vince\\documents\\dev\\thèse\\tunable-kernel-nulling\\venv\\lib\\site-packages (1.11.3)\n",
      "Requirement already satisfied: numpy<1.28.0,>=1.21.6 in c:\\users\\vince\\documents\\dev\\thèse\\tunable-kernel-nulling\\venv\\lib\\site-packages (from scipy) (1.26.1)\n",
      "Note: you may need to restart the kernel to use updated packages.\n"
     ]
    }
   ],
   "source": [
    "%pip install scipy"
   ]
  },
  {
   "cell_type": "code",
   "execution_count": 2,
   "metadata": {},
   "outputs": [],
   "source": [
    "import numpy as np\n",
    "import matplotlib.pyplot as plt\n",
    "from astropy import units as U\n",
    "from src import *"
   ]
  },
  {
   "cell_type": "code",
   "execution_count": 3,
   "metadata": {},
   "outputs": [
    {
     "ename": "AttributeError",
     "evalue": "type object 'Archetype' has no attribute 'ring'",
     "output_type": "error",
     "traceback": [
      "\u001b[1;31m---------------------------------------------------------------------------\u001b[0m",
      "\u001b[1;31mAttributeError\u001b[0m                            Traceback (most recent call last)",
      "\u001b[1;32mc:\\Users\\vince\\Documents\\Dev\\Thèse\\Tunable-Kernel-Nulling\\random_test.ipynb Cellule 3\u001b[0m line \u001b[0;36m7\n\u001b[0;32m      <a href='vscode-notebook-cell:/c%3A/Users/vince/Documents/Dev/Th%C3%A8se/Tunable-Kernel-Nulling/random_test.ipynb#W3sZmlsZQ%3D%3D?line=2'>3</a>\u001b[0m v \u001b[39m*\u001b[39m\u001b[39m=\u001b[39m U\u001b[39m.\u001b[39marcsec\n\u001b[0;32m      <a href='vscode-notebook-cell:/c%3A/Users/vince/Documents/Dev/Th%C3%A8se/Tunable-Kernel-Nulling/random_test.ipynb#W3sZmlsZQ%3D%3D?line=4'>5</a>\u001b[0m view \u001b[39m=\u001b[39m Archetype\u001b[39m.\u001b[39muniform_disk(phi\u001b[39m=\u001b[39m\u001b[39m0\u001b[39m\u001b[39m*\u001b[39mU\u001b[39m.\u001b[39mmas, theta\u001b[39m=\u001b[39m\u001b[39m0\u001b[39m\u001b[39m*\u001b[39mU\u001b[39m.\u001b[39mmas, angular_diameter\u001b[39m=\u001b[39m\u001b[39m500\u001b[39m\u001b[39m*\u001b[39mU\u001b[39m.\u001b[39mmas, intensity\u001b[39m=\u001b[39m\u001b[39m1\u001b[39m\u001b[39m*\u001b[39mU\u001b[39m.\u001b[39mcd)(u,v)\n\u001b[1;32m----> <a href='vscode-notebook-cell:/c%3A/Users/vince/Documents/Dev/Th%C3%A8se/Tunable-Kernel-Nulling/random_test.ipynb#W3sZmlsZQ%3D%3D?line=6'>7</a>\u001b[0m view \u001b[39m=\u001b[39m Archetype\u001b[39m.\u001b[39;49mring(phi\u001b[39m=\u001b[39m\u001b[39m0\u001b[39m\u001b[39m*\u001b[39mU\u001b[39m.\u001b[39mmas, theta\u001b[39m=\u001b[39m\u001b[39m0\u001b[39m\u001b[39m*\u001b[39mU\u001b[39m.\u001b[39mmas, major_axis\u001b[39m=\u001b[39m\u001b[39m1000\u001b[39m\u001b[39m*\u001b[39mU\u001b[39m.\u001b[39mmas, minor_axis\u001b[39m=\u001b[39m\u001b[39m500\u001b[39m\u001b[39m*\u001b[39mU\u001b[39m.\u001b[39mmas, thickness\u001b[39m=\u001b[39m\u001b[39m30\u001b[39m\u001b[39m*\u001b[39mU\u001b[39m.\u001b[39mmas, angle\u001b[39m=\u001b[39m\u001b[39m0\u001b[39m\u001b[39m*\u001b[39mU\u001b[39m.\u001b[39mdeg, intensity\u001b[39m=\u001b[39m\u001b[39m1\u001b[39m\u001b[39m*\u001b[39mU\u001b[39m.\u001b[39mcd)(u,v)\n\u001b[0;32m      <a href='vscode-notebook-cell:/c%3A/Users/vince/Documents/Dev/Th%C3%A8se/Tunable-Kernel-Nulling/random_test.ipynb#W3sZmlsZQ%3D%3D?line=8'>9</a>\u001b[0m plt\u001b[39m.\u001b[39mimshow(np\u001b[39m.\u001b[39mabs(view\u001b[39m.\u001b[39mvalue), origin\u001b[39m=\u001b[39m\u001b[39m'\u001b[39m\u001b[39mlower\u001b[39m\u001b[39m'\u001b[39m)\n\u001b[0;32m     <a href='vscode-notebook-cell:/c%3A/Users/vince/Documents/Dev/Th%C3%A8se/Tunable-Kernel-Nulling/random_test.ipynb#W3sZmlsZQ%3D%3D?line=9'>10</a>\u001b[0m plt\u001b[39m.\u001b[39mtitle(\u001b[39mf\u001b[39m\u001b[39m'\u001b[39m\u001b[39mUniform disk (\u001b[39m\u001b[39m{\u001b[39;00mview\u001b[39m.\u001b[39munit\u001b[39m}\u001b[39;00m\u001b[39m)\u001b[39m\u001b[39m'\u001b[39m)\n",
      "\u001b[1;31mAttributeError\u001b[0m: type object 'Archetype' has no attribute 'ring'"
     ]
    }
   ],
   "source": [
    "u, v = np.meshgrid(np.linspace(-1, 1, 100), np.linspace(-1, 1, 100))\n",
    "u *= U.arcsec\n",
    "v *= U.arcsec\n",
    "\n",
    "view = Archetype.uniform_disk(phi=0*U.mas, theta=0*U.mas, angular_diameter=500*U.mas, intensity=1*U.cd)(u,v)\n",
    "\n",
    "view = Archetype.ring(phi=0*U.mas, theta=0*U.mas, major_axis=1000*U.mas, minor_axis=500*U.mas, thickness=30*U.mas, angle=0*U.deg, intensity=1*U.cd)(u,v)\n",
    "\n",
    "plt.imshow(np.abs(view.value), origin='lower')\n",
    "plt.title(f'Uniform disk ({view.unit})')\n",
    "plt.colorbar()\n",
    "plt.show()"
   ]
  },
  {
   "cell_type": "code",
   "execution_count": null,
   "metadata": {},
   "outputs": [],
   "source": [
    "field = Field(\n",
    "    elements = [\n",
    "        Archetype.uniform_disk(phi=0*U.mas, theta=0*U.mas, angular_diameter=100*U.mas, intensity=1*U.cd),\n",
    "    ],\n",
    "    pertubations=[\n",
    "        # Perturbation.atmosphere,\n",
    "    ],\n",
    "    telescope_responses=[\n",
    "        # TelescopeResponse.PSF,\n",
    "    ],\n",
    "    wavelength=1.55*U.um,\n",
    ")\n",
    "\n",
    "telescope = Telescope(0*U.m,0*U.m, image_size=1000, field_width=1*U.arcsec)\n",
    "\n",
    "telescope.observe(field)\n",
    "\n",
    "plt.imshow(telescope.field.intensity.value)\n",
    "plt.colorbar()\n",
    "plt.show()\n",
    "plt.imshow(np.angle(telescope.field.complex.value))\n",
    "plt.colorbar()\n",
    "plt.show()"
   ]
  }
 ],
 "metadata": {
  "kernelspec": {
   "display_name": "Python 3",
   "language": "python",
   "name": "python3"
  },
  "language_info": {
   "codemirror_mode": {
    "name": "ipython",
    "version": 3
   },
   "file_extension": ".py",
   "mimetype": "text/x-python",
   "name": "python",
   "nbconvert_exporter": "python",
   "pygments_lexer": "ipython3",
   "version": "3.10.11"
  }
 },
 "nbformat": 4,
 "nbformat_minor": 2
}
